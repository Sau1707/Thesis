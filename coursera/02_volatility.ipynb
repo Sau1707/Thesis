{
 "cells": [
  {
   "cell_type": "markdown",
   "metadata": {},
   "source": [
    "# Volatility\n",
    "\n",
    "Variance:\n",
    "$$ \\sigma^2 = \\frac{1}{n} \\sum_{i=1}^{n} (R_i - \\bar{R})^2 $$\n",
    "\n",
    "Standard deviation:\n",
    "$$ \\sigma = \\sqrt{\\sigma^2} $$\n",
    "\n",
    "Annualized volatility:\n",
    "$$ \\sigma_{annual} = \\sigma \\cdot \\sqrt{252} $$\n",
    "\n",
    "Where:\n",
    "- $R_i$ is the return of the stock on day $i$\n",
    "- $\\bar{R}$ is the average return of the stock\n",
    "- $n$ is the number of days\n",
    "- 252 is the number of trading days in a year\n",
    "\n",
    "Sharpe ratio:\n",
    "$$ Sharpe = \\frac{R_p - R_f}{\\sigma_p} $$\n",
    "\n",
    "Where:"
   ]
  }
 ],
 "metadata": {
  "language_info": {
   "name": "python"
  }
 },
 "nbformat": 4,
 "nbformat_minor": 2
}
